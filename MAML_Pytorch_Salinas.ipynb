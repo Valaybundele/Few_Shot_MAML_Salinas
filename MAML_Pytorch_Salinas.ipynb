{
  "nbformat": 4,
  "nbformat_minor": 0,
  "metadata": {
    "accelerator": "GPU",
    "colab": {
      "name": "MAML_Pytorch_Salinas",
      "provenance": [],
      "collapsed_sections": [],
      "include_colab_link": true
    },
    "kernelspec": {
      "display_name": "Python 3",
      "name": "python3"
    }
  },
  "cells": [
    {
      "cell_type": "markdown",
      "metadata": {
        "id": "view-in-github",
        "colab_type": "text"
      },
      "source": [
        "<a href=\"https://colab.research.google.com/github/Valaybundele/Few_Shot_MAML_Salinas/blob/main/MAML_Pytorch_Salinas.ipynb\" target=\"_parent\"><img src=\"https://colab.research.google.com/assets/colab-badge.svg\" alt=\"Open In Colab\"/></a>"
      ]
    },
    {
      "cell_type": "code",
      "metadata": {
        "id": "NGSjWI71ZtDc"
      },
      "source": [
        "!pip install spectral"
      ],
      "execution_count": null,
      "outputs": []
    },
    {
      "cell_type": "code",
      "metadata": {
        "id": "VF5bItx4JI-W"
      },
      "source": [
        "import torch\n",
        "import torchvision\n",
        "from torch.utils.data import Dataset\n",
        "from torch.autograd import Variable\n",
        "import torchvision.transforms as transforms\n",
        "import torch.nn as nn\n",
        "import torch.optim as optim\n",
        "import torch.nn.functional as F\n",
        "from PIL import Image\n",
        "import numpy as np\n",
        "import matplotlib.pyplot as plt\n",
        "import sys \n",
        "import os \n",
        "import scipy.io as sio\n",
        "import random\n",
        "from sklearn.decomposition import PCA\n",
        "import spectral"
      ],
      "execution_count": 2,
      "outputs": []
    },
    {
      "cell_type": "code",
      "metadata": {
        "id": "-3-EKB55ZBIH",
        "colab": {
          "base_uri": "https://localhost:8080/"
        },
        "outputId": "bb833b12-8ef4-4c6e-e0f2-40d896b96e07"
      },
      "source": [
        "from google.colab import drive\n",
        "drive.mount('/content/drive/')"
      ],
      "execution_count": 3,
      "outputs": [
        {
          "output_type": "stream",
          "text": [
            "Mounted at /content/drive/\n"
          ],
          "name": "stdout"
        }
      ]
    },
    {
      "cell_type": "code",
      "metadata": {
        "id": "a7LZwDr2ZHN0"
      },
      "source": [
        "# Global variables   \n",
        "im_width, im_height, im_depth, im_channel = 11,11,30,1  #size of the input salinas patches"
      ],
      "execution_count": 4,
      "outputs": []
    },
    {
      "cell_type": "code",
      "metadata": {
        "id": "tG_6c0rSZT_J"
      },
      "source": [
        "class MAML(nn.Module) :\n",
        "  def __init__(self) :\n",
        "    super(MAML,self).__init__()\n",
        "    self.softmax = nn.Softmax(dim=1)\n",
        "    layers = [nn.Conv3d(1,8,(7,3,3))]\n",
        "    layers.append(nn.ReLU())\n",
        "    layers.append(nn.Conv3d(8,16,(5,3,3)))\n",
        "    layers.append(nn.ReLU())\n",
        "    layers.append(nn.Conv3d(16,32,(3,3,3)))\n",
        "    layers.append(nn.ReLU())\n",
        "    layers.append(nn.Flatten())\n",
        "    layers.append(nn.Dropout(0.4))\n",
        "    layers.append(nn.Linear(14400,256))\n",
        "    layers.append(nn.Dropout(0.4))\n",
        "    layers.append(nn.Linear(256,128))\n",
        "    layers.append(nn.Linear(128,3))\n",
        "    self.model = nn.Sequential(*layers)\n",
        "  def forward(self,x) :\n",
        "    y = self.model(x)\n",
        "    z = self.softmax(y)\n",
        "    return z"
      ],
      "execution_count": 6,
      "outputs": []
    },
    {
      "cell_type": "code",
      "metadata": {
        "colab": {
          "base_uri": "https://localhost:8080/"
        },
        "id": "u9cTLb1b04UB",
        "outputId": "b1d82604-b302-4f17-eace-f8106bab60a0"
      },
      "source": [
        "device = torch.device('cuda' if torch.cuda.is_available() else 'cpu')\r\n",
        "device"
      ],
      "execution_count": 7,
      "outputs": [
        {
          "output_type": "execute_result",
          "data": {
            "text/plain": [
              "device(type='cuda')"
            ]
          },
          "metadata": {
            "tags": []
          },
          "execution_count": 7
        }
      ]
    },
    {
      "cell_type": "code",
      "metadata": {
        "id": "0mGQkzFRm4uC"
      },
      "source": [
        "maml_model = MAML().to(device)"
      ],
      "execution_count": 8,
      "outputs": []
    },
    {
      "cell_type": "code",
      "metadata": {
        "id": "bZskuZDkrfl6"
      },
      "source": [
        "def loadData(name):\n",
        "    if name == 'IP':\n",
        "        data = sio.loadmat('/content/drive/My Drive/Indian_pines_corrected.mat')['indian_pines_corrected']\n",
        "        labels = sio.loadmat('/content/drive/My Drive/Indian_pines_gt.mat')['indian_pines_gt']\n",
        "    if name == 'salinas' :\n",
        "        data = sio.loadmat('/content/drive/My Drive/Hyperspectral Few Shot/Hyperspectral datasets/Salinas_corrected.mat')['salinas_corrected']\n",
        "        labels = sio.loadmat('/content/drive/My Drive/Hyperspectral Few Shot/Hyperspectral datasets/Salinas_gt.mat')['salinas_gt']\n",
        "    if name == 'pavia' :\n",
        "        data = sio.loadmat('/content/drive/My Drive/PaviaU.mat')['paviaU']\n",
        "        labels = sio.loadmat('/content/drive/My Drive/PaviaU_gt.mat')['paviaU_gt']\n",
        "    if name == 'ksc' :\n",
        "        data = sio.loadmat('/content/drive/My Drive/KSC.mat')['KSC']\n",
        "        labels = sio.loadmat('/content/drive/My Drive/KSC_gt.mat')['KSC_gt']\n",
        "    if name == 'botswana' :\n",
        "        data = sio.loadmat('/content/drive/My Drive/Botswana.mat')['Botswana']\n",
        "        labels = sio.loadmat('/content/drive/My Drive/Botswana_gt.mat')['Botswana_gt']\n",
        "    return data, labels\n",
        "# without reduction of 200 channels to 30 channels, memory error while creating cube \n",
        "def applyPCA(X, numComponents):\n",
        "    newX = np.reshape(X, (-1, X.shape[2]))\n",
        "    pca = PCA(n_components=numComponents, whiten=True)\n",
        "    newX = pca.fit_transform(newX)\n",
        "    newX = np.reshape(newX, (X.shape[0],X.shape[1], numComponents))\n",
        "    return newX, pca\n",
        "\n",
        "def padWithZeros(X, margin):\n",
        "    newX = np.zeros((X.shape[0] + 2 * margin, X.shape[1] + 2* margin, X.shape[2]))\n",
        "    x_offset = margin\n",
        "    y_offset = margin\n",
        "    newX[x_offset:X.shape[0] + x_offset, y_offset:X.shape[1] + y_offset, :] = X\n",
        "    return newX\n",
        "\n",
        "def createImageCubes(X, y, windowSize, removeZeroLabels = True):\n",
        "    margin = int((windowSize - 1) / 2)\n",
        "    zeroPaddedX = padWithZeros(X, margin=margin)  # X :(145, 145, 30) --> (195, 195, 30) with window =25\n",
        "    # split patches\n",
        "    patchesData = np.zeros((X.shape[0] * X.shape[1], windowSize, windowSize, X.shape[2]))  # (21025, 25, 25, 30)   \n",
        "    patchesLabels = np.zeros((X.shape[0] * X.shape[1]))  # (21025,)\n",
        "    patchIndex = 0\n",
        "    \n",
        "    for r in range(margin, zeroPaddedX.shape[0] - margin):\n",
        "        for c in range(margin, zeroPaddedX.shape[1] - margin):\n",
        "            patch = zeroPaddedX[r - margin:r + margin + 1, c - margin:c + margin + 1]  \n",
        "            patchesData[patchIndex, :, :, :] = patch\n",
        "            patchesLabels[patchIndex] = y[r-margin, c-margin]            \n",
        "            patchIndex = patchIndex + 1\n",
        "  \n",
        "    patchesData = np.expand_dims(patchesData, axis=-1)\n",
        "    return patchesData,patchesLabels"
      ],
      "execution_count": 9,
      "outputs": []
    },
    {
      "cell_type": "code",
      "metadata": {
        "colab": {
          "base_uri": "https://localhost:8080/"
        },
        "id": "_iyX4iTQUOpT",
        "outputId": "6a28ab62-6153-4cbd-efe5-fd6153b49e50"
      },
      "source": [
        "# creating input patches from the salinas dataset \n",
        "dataset1 = 'salinas'                                         # 16 classes   \n",
        "sa_x1, sa_y = loadData(dataset1)                              #((512, 217, 204), (512, 217))\n",
        "sa_x2,pca = applyPCA(sa_x1,numComponents=30)                   # ((512, 217, 20), (512, 217))\n",
        "sa_X,sa_Y = createImageCubes(sa_x2, sa_y, windowSize=11)   #(111104, 9, 9, 20, 1) (111104,)\n",
        "print(sa_X.shape,sa_Y.shape)"
      ],
      "execution_count": 10,
      "outputs": [
        {
          "output_type": "stream",
          "text": [
            "(111104, 11, 11, 30, 1) (111104,)\n"
          ],
          "name": "stdout"
        }
      ]
    },
    {
      "cell_type": "code",
      "metadata": {
        "colab": {
          "base_uri": "https://localhost:8080/"
        },
        "id": "Rj34RLFSBtGT",
        "outputId": "ce9e2709-8dc4-42b7-c90e-78c98500a59e"
      },
      "source": [
        "print(sa_x1.shape)\n",
        "print(sa_y.shape)"
      ],
      "execution_count": 11,
      "outputs": [
        {
          "output_type": "stream",
          "text": [
            "(512, 217, 204)\n",
            "(512, 217)\n"
          ],
          "name": "stdout"
        }
      ]
    },
    {
      "cell_type": "code",
      "metadata": {
        "id": "BMY1DbyVZtV1"
      },
      "source": [
        "def patches_class(X,Y,n) :\n",
        "  n_classes = n\n",
        "  patches_list = []\n",
        "  for i in range(1,n_classes+1):   # not considering class 0\n",
        "    patchesData_Ith_Label = X[Y==i,:,:,:,:]\n",
        "    patches_list.append(patchesData_Ith_Label)\n",
        "  return patches_list "
      ],
      "execution_count": 12,
      "outputs": []
    },
    {
      "cell_type": "code",
      "metadata": {
        "id": "NBjLuxWvxMBG"
      },
      "source": [
        "patches_class_salinas = patches_class(sa_X,sa_Y,16) # class_wise list of patches #(16,) for class 0: (2009, 9, 9, 20, 1)"
      ],
      "execution_count": 13,
      "outputs": []
    },
    {
      "cell_type": "code",
      "metadata": {
        "colab": {
          "base_uri": "https://localhost:8080/"
        },
        "id": "MgZ3zNQhpsVW",
        "outputId": "3fc83da5-69ba-420e-b420-db44e6426c43"
      },
      "source": [
        "patches_class_salinas[0].shape"
      ],
      "execution_count": 14,
      "outputs": [
        {
          "output_type": "execute_result",
          "data": {
            "text/plain": [
              "(2009, 11, 11, 30, 1)"
            ]
          },
          "metadata": {
            "tags": []
          },
          "execution_count": 14
        }
      ]
    },
    {
      "cell_type": "code",
      "metadata": {
        "id": "IbRlaX7-o8Zu"
      },
      "source": [
        "train_class_indices = [0,1,2,3,4,5,6,7,8,11]\n",
        "test_class_indices = [9,10,12,13,14,15]\n",
        "train_patches_class = [patches_class_salinas[i] for i in train_class_indices]        #(10)\n",
        "test_patches_class = [patches_class_salinas[i] for i in test_class_indices]        #(6) \n",
        "train_class_labels = [1,2,3,4,5,6,7,8,9,12]   \n",
        "test_class_labels = [10,11,13,14,15,16]    #[11...16]"
      ],
      "execution_count": 15,
      "outputs": []
    },
    {
      "cell_type": "code",
      "metadata": {
        "id": "kNBNYdJX3STT"
      },
      "source": [
        "C = 3  # n_class\n",
        "K1 = 5   # n_support\n",
        "N = 15   # n_query\n",
        "tC = 3   # classes in a test episode\n",
        "im_height,im_width,im_depth = 11,11,30"
      ],
      "execution_count": 16,
      "outputs": []
    },
    {
      "cell_type": "code",
      "metadata": {
        "id": "vmBBYOcd7wdm"
      },
      "source": [
        "def new_episode(patches_list,K,C,N,class_labels) :\n",
        "  selected_classes = np.random.choice(class_labels,C,replace=False)  # Randomly choice C Classes out of classes available\n",
        "  selected_classes = selected_classes.tolist()\n",
        "  tsupport_patches = []\n",
        "  tquery_patches = []\n",
        "  query_labels = []\n",
        "  support_labels = []\n",
        "  for x in selected_classes :\n",
        "    sran_indices = np.random.choice(len(patches_list[x-1]),K,replace=False)  # for class no X-1: select random sample no\n",
        "    support_patches = patches_list[x-1][sran_indices,:,:,:,:]\n",
        "    qran_indices = np.random.choice(len(patches_list[x-1]),N,replace=False)  # N Samples for Query\n",
        "    query_patches = patches_list[x-1][qran_indices,:,:,:,:]\n",
        "  # Support and Query patches belong to same Class \n",
        "    for i in range(N) :\n",
        "      query_labels.append(x)    # N Samples for Query\n",
        "    for i in range(K) :\n",
        "      support_labels.append(x)    \n",
        "    tquery_patches.extend(query_patches)\n",
        "    tsupport_patches.extend(support_patches)\n",
        "  temp1 = list(zip(tquery_patches, query_labels)) \n",
        "  random.shuffle(temp1)        # By Doing Shuffling, Support, Query Same class combination got mismatched - mitigated by support index\n",
        "  tquery_patches, query_labels = zip(*temp1)\n",
        "  temp2 = list(zip(tsupport_patches, support_labels)) \n",
        "  random.shuffle(temp2)        # By Doing Shuffling, Support, Query Same class combination got mismatched - mitigated by support index\n",
        "  tsupport_patches, support_labels = zip(*temp2)\n",
        "  tquery_patches = torch.from_numpy(np.reshape(np.asarray(tquery_patches, dtype=np.float32),(C*N,im_height,im_width,im_depth,1)))\n",
        "  tsupport_patches = torch.from_numpy(np.reshape(np.asarray(tsupport_patches, dtype=np.float32),(C*K,im_height,im_width,im_depth,1)))\n",
        "  tquery_patches = tquery_patches.permute(0,4,3,2,1)\n",
        "  tsupport_patches = tsupport_patches.permute(0,4,3,2,1)\n",
        "  return tquery_patches, tsupport_patches, query_labels, support_labels, selected_classes    "
      ],
      "execution_count": 17,
      "outputs": []
    },
    {
      "cell_type": "code",
      "metadata": {
        "id": "mZSEL1Zo3KUh"
      },
      "source": [
        "tquery_patches, tsupport_patches, query_labels, support_labels, selected_classes = new_episode(patches_class_salinas,K1,C,N,train_class_labels)"
      ],
      "execution_count": 18,
      "outputs": []
    },
    {
      "cell_type": "code",
      "metadata": {
        "id": "rtxObYGQN6t4"
      },
      "source": [
        "meta_opt = torch.optim.Adam(maml_model.parameters(), lr=0.0001, betas=(0.5, 0.999))      \n"
      ],
      "execution_count": 19,
      "outputs": []
    },
    {
      "cell_type": "code",
      "metadata": {
        "colab": {
          "base_uri": "https://localhost:8080/"
        },
        "id": "q-RKIAXaFgPW",
        "outputId": "798b741d-4324-4c82-e872-3ce6762ea75a"
      },
      "source": [
        "maml_model.parameters"
      ],
      "execution_count": 20,
      "outputs": [
        {
          "output_type": "execute_result",
          "data": {
            "text/plain": [
              "<bound method Module.parameters of MAML(\n",
              "  (softmax): Softmax(dim=1)\n",
              "  (model): Sequential(\n",
              "    (0): Conv3d(1, 8, kernel_size=(7, 3, 3), stride=(1, 1, 1))\n",
              "    (1): ReLU()\n",
              "    (2): Conv3d(8, 16, kernel_size=(5, 3, 3), stride=(1, 1, 1))\n",
              "    (3): ReLU()\n",
              "    (4): Conv3d(16, 32, kernel_size=(3, 3, 3), stride=(1, 1, 1))\n",
              "    (5): ReLU()\n",
              "    (6): Flatten(start_dim=1, end_dim=-1)\n",
              "    (7): Dropout(p=0.4, inplace=False)\n",
              "    (8): Linear(in_features=14400, out_features=256, bias=True)\n",
              "    (9): Dropout(p=0.4, inplace=False)\n",
              "    (10): Linear(in_features=256, out_features=128, bias=True)\n",
              "    (11): Linear(in_features=128, out_features=3, bias=True)\n",
              "  )\n",
              ")>"
            ]
          },
          "metadata": {
            "tags": []
          },
          "execution_count": 20
        }
      ]
    },
    {
      "cell_type": "code",
      "metadata": {
        "id": "oxc6bz9xkwz_"
      },
      "source": [
        "!pip install higher\r\n"
      ],
      "execution_count": null,
      "outputs": []
    },
    {
      "cell_type": "code",
      "metadata": {
        "id": "e5uyBNjNUdN3"
      },
      "source": [
        "checkpoint_dir1 = '/content/drive/MyDrive/Hyperspectral Few Shot/MAML/training/ckpts'\r\n",
        "checkpoint_prefix1 = os.path.join(checkpoint_dir1, \"ckpt\")"
      ],
      "execution_count": 22,
      "outputs": []
    },
    {
      "cell_type": "code",
      "metadata": {
        "id": "mGPDJZPgJMa7"
      },
      "source": [
        "checkpoint = torch.load('/content/drive/MyDrive/Hyperspectral Few Shot/MAML/training/ckpts/ckpt1939597999119159199239279319359399439479')\r\n",
        "maml_model.load_state_dict(checkpoint['model_state_dict'])\r\n",
        "meta_opt.load_state_dict(checkpoint['optimizer_state_dict'])\r\n"
      ],
      "execution_count": 23,
      "outputs": []
    },
    {
      "cell_type": "code",
      "metadata": {
        "id": "3SbQE4mI2iWy"
      },
      "source": [
        "#Training\r\n",
        "import higher\r\n",
        "epochs = 120\r\n",
        "n_tasks = 15\r\n",
        "for k in range(epochs) :\r\n",
        "    maml_model.train()\r\n",
        "    total_loss = 0\r\n",
        "    accuracies = []\r\n",
        "    n_inner_iter = 10\r\n",
        "    inner_opt = torch.optim.SGD(maml_model.parameters(), lr=1e-1)\r\n",
        "    meta_opt.zero_grad()\r\n",
        "    for i in range(n_tasks) :\r\n",
        "      with higher.innerloop_ctx(maml_model, inner_opt, copy_initial_weights=False) as (fnet, diffopt): \r\n",
        "        tquery_patches, tsupport_patches, query_labels, support_labels, selected_classes = new_episode(patches_class_salinas,K1,C,N,train_class_labels)\r\n",
        "        tsupport_patches = tsupport_patches.to(device)\r\n",
        "        tquery_patches = tquery_patches.to(device)\r\n",
        "        support_y = np.zeros((int(C*K1),C))                                          \r\n",
        "        for i in range(int(C*K1)) :\r\n",
        "          x = selected_classes.index(support_labels[i])                           # creation of 1-hot for true labels\r\n",
        "          support_y[i][x] = 1. \r\n",
        "        support_y = torch.from_numpy(support_y).to(device)    \r\n",
        "        query_y = np.zeros((int(C*N),C))                                        \r\n",
        "        for i in range(int(C*N)) :\r\n",
        "          x = selected_classes.index(query_labels[i])                           # creation of 1-hot for true labels\r\n",
        "          query_y[i][x] = 1.\r\n",
        "        query_y = torch.from_numpy(query_y).to(device)    \r\n",
        "        for i in range(n_inner_iter) :\r\n",
        "          s_logits = fnet(tsupport_patches)\r\n",
        "          i_loss = F.cross_entropy(s_logits,support_y.argmax(axis=1))\r\n",
        "          i_loss = torch.mean(i_loss)\r\n",
        "          diffopt.step(i_loss)\r\n",
        "        q_logits = fnet(tquery_patches)\r\n",
        "        q_real = query_y.argmax(axis=1)\r\n",
        "        q_real = q_real.long()\r\n",
        "        q_loss = F.cross_entropy(q_logits,q_real)\r\n",
        "        total_loss += q_loss\r\n",
        "        q_loss.detach()\r\n",
        "        q_loss.backward()        \r\n",
        "        eq = (q_logits.argmax(dim=1) == q_real).sum().item()\r\n",
        "        accuracy = eq/len(q_real)  \r\n",
        "        accuracies.append(accuracy)\r\n",
        "    meta_opt.step()\r\n",
        "    accuracies = torch.from_numpy(np.asarray(accuracies))\r\n",
        "    print(k,'Loss',total_loss,..., 'Accuracy', torch.mean(accuracies))\r\n",
        "    if (k+1)%40==0 :\r\n",
        "       checkpoint_prefix1 = checkpoint_prefix1 + str(k+360)\r\n",
        "       torch.save({'model_state_dict': maml_model.state_dict(),\r\n",
        "            'optimizer_state_dict': meta_opt.state_dict(),\r\n",
        "            'loss': total_loss,\r\n",
        "            }, checkpoint_prefix1)\r\n",
        "\r\n",
        "\r\n",
        "\r\n"
      ],
      "execution_count": null,
      "outputs": []
    },
    {
      "cell_type": "code",
      "metadata": {
        "colab": {
          "base_uri": "https://localhost:8080/"
        },
        "id": "4-3NJYMDTex4",
        "outputId": "af3bd17b-c9bb-482a-963c-a21734cc7eb8"
      },
      "source": [
        "print(len(test_patches_class))\n",
        "print(test_class_labels)"
      ],
      "execution_count": 24,
      "outputs": [
        {
          "output_type": "stream",
          "text": [
            "6\n",
            "[10, 11, 13, 14, 15, 16]\n"
          ],
          "name": "stdout"
        }
      ]
    },
    {
      "cell_type": "code",
      "metadata": {
        "id": "f64ExXqB_J_F"
      },
      "source": [
        "tune_set_5 = [[] for i in range(6)]\n",
        "for j in range(6) :\n",
        "  tune_set_5[j] = test_patches_class[j][:5,:,:,:,:]   # for each class first 5 samples taken"
      ],
      "execution_count": 25,
      "outputs": []
    },
    {
      "cell_type": "code",
      "metadata": {
        "colab": {
          "base_uri": "https://localhost:8080/"
        },
        "id": "WXOm31sTAKnG",
        "outputId": "c78b7c3d-f338-4edc-d100-be543ba0fc24"
      },
      "source": [
        "print(len(tune_set_5))\n",
        "print(tune_set_5[0].shape)"
      ],
      "execution_count": 26,
      "outputs": [
        {
          "output_type": "stream",
          "text": [
            "6\n",
            "(5, 11, 11, 30, 1)\n"
          ],
          "name": "stdout"
        }
      ]
    },
    {
      "cell_type": "code",
      "metadata": {
        "id": "sQHAAuML_BF8"
      },
      "source": [
        "def tune_episode(tune_set,tC,tK,tN,test_class_labels) :\n",
        "  selected_classes = np.random.choice(test_class_labels,tC,replace=False)\n",
        "  support_labels  = list(selected_classes)\n",
        "  query_labels = []\n",
        "  support_patches = []\n",
        "  query_patches = []\n",
        "  for x in selected_classes :\n",
        "    y = test_class_labels.index(x)\n",
        "    np.random.shuffle(tune_set[y])    \n",
        "    support_imgs = tune_set[y][:tK,:,:,:,:]    #Support 1, Query 4\n",
        "    query_imgs = tune_set[y][tK:5,:,:,:,:]\n",
        "    support_patches.extend(support_imgs)\n",
        "    query_patches.extend(query_imgs)\n",
        "    for i in range(tN) :\n",
        "      query_labels.append(x)\n",
        "  temp1 = list(zip(query_patches, query_labels)) \n",
        "  random.shuffle(temp1) \n",
        "  query_patches, query_labels = zip(*temp1)\n",
        "  query_patches = torch.from_numpy(np.reshape(np.asarray(query_patches,dtype=np.float32),(tC*tN,im_height,im_width,im_depth,1)))\n",
        "  support_patches = torch.from_numpy(np.reshape(np.asarray(support_patches,dtype=np.float32),(tC*tK,im_height,im_width,im_depth,1)))\n",
        "  query_patches = query_patches.permute(0,4,3,2,1)\n",
        "  support_patches = support_patches.permute(0,4,3,2,1)\n",
        "  return query_patches, support_patches, query_labels, support_labels, list(selected_classes)  "
      ],
      "execution_count": 27,
      "outputs": []
    },
    {
      "cell_type": "code",
      "metadata": {
        "id": "78mUqPSj3DA6"
      },
      "source": [
        "query_patches, support_patches, query_labels, support_labels, selected_classes = tune_episode(tune_set_5,4,1,4,test_class_labels)"
      ],
      "execution_count": 28,
      "outputs": []
    },
    {
      "cell_type": "code",
      "metadata": {
        "id": "dlIrGMXBKN8Y"
      },
      "source": [
        "checkpoint_dir2 = '/content/drive/MyDrive/Hyperspectral Few Shot/MAML/tuning/ckpts'\n",
        "checkpoint_prefix2 = os.path.join(checkpoint_dir2, \"ckpt\")"
      ],
      "execution_count": 29,
      "outputs": []
    },
    {
      "cell_type": "code",
      "metadata": {
        "id": "SMOAUv5YJH1N"
      },
      "source": [
        "checkpoint_tune = torch.load(checkpoint_prefix2)\r\n",
        "maml_model.load_state_dict(checkpoint_tune['model_state_dict'])\r\n",
        "meta_opt.load_state_dict(checkpoint_tune['optimizer_state_dict'])"
      ],
      "execution_count": 30,
      "outputs": []
    },
    {
      "cell_type": "code",
      "metadata": {
        "id": "abc2CqQdBRFB"
      },
      "source": [
        "# Fine-tuning\n",
        "n_episodes = 100\n",
        "epochs = 41\n",
        "import higher\n",
        "n_tasks = 10\n",
        "K2 = 1\n",
        "N2 = 4\n",
        "\n",
        "for k in range(epochs) :\n",
        "    tune_accuracies = []\n",
        "    maml_model.train()\n",
        "    total_loss = 0\n",
        "    accuracies = []\n",
        "    n_inner_iter = 5\n",
        "    inner_opt = torch.optim.SGD(maml_model.parameters(), lr=1e-1)\n",
        "    meta_opt.zero_grad()\n",
        "    for i in range(n_tasks) :\n",
        "      with higher.innerloop_ctx(maml_model, inner_opt, copy_initial_weights=False) as (fnet, diffopt): \n",
        "        query_patches, support_patches, query_labels, support_labels, selected_classes = tune_episode(tune_set_5,3,1,4,test_class_labels)        \n",
        "        support_y = np.zeros((int(C*K2),C))\n",
        "        support_patches = support_patches.to(device)\n",
        "        query_patches = query_patches.to(device)                                           \n",
        "        for i in range(int(C*K2)) :\n",
        "          x = selected_classes.index(support_labels[i])                           # creation of 1-hot for true labels\n",
        "          support_y[i][x] = 1. \n",
        "        support_y = torch.from_numpy(support_y).to(device)\n",
        "        query_y = np.zeros((int(C*N2),C))                                           \n",
        "        for i in range(int(C*N2)) :\n",
        "          x = selected_classes.index(query_labels[i])                           # creation of 1-hot for true labels\n",
        "          query_y[i][x] = 1.\n",
        "        query_y = torch.from_numpy(query_y).to(device)\n",
        "        for i in range(n_inner_iter) :\n",
        "          s_logits_t = fnet(support_patches)\n",
        "          i_loss = F.cross_entropy(s_logits_t,support_y.argmax(axis=1))\n",
        "          i_loss = torch.mean(i_loss)\n",
        "          diffopt.step(i_loss)\n",
        "        q_logits = fnet(query_patches)\n",
        "        q_real = query_y.argmax(axis=1)\n",
        "        q_real = (q_real).long()\n",
        "        q_loss = F.cross_entropy(q_logits,q_real)\n",
        "        q_loss.detach()\n",
        "        total_loss += q_loss\n",
        "        q_loss.backward()\n",
        "        eq = (q_logits.argmax(dim=1) == q_real).sum().item()\n",
        "        accuracy = eq/len(q_real)  \n",
        "        tune_accuracies.append(accuracy)\n",
        "    meta_opt.step()\n",
        "    tune_accuracies = torch.from_numpy(np.asarray(tune_accuracies))\n",
        "    print(k,'Loss',total_loss,..., 'Accuracy', torch.mean(tune_accuracies))\n",
        "    if (k+1)%20==0 :\n",
        "       torch.save({'model_state_dict': maml_model.state_dict(),\n",
        "            'optimizer_state_dict': meta_opt.state_dict(),\n",
        "            'loss': total_loss,\n",
        "            }, checkpoint_prefix2)\n",
        "\n",
        "\n"
      ],
      "execution_count": null,
      "outputs": []
    },
    {
      "cell_type": "code",
      "metadata": {
        "id": "kPjwIpM_tPz0"
      },
      "source": [
        "def test_episode(test_patches_class,test_class_labels,test_C,test_K,i,f) :\n",
        "  selected_classes = test_class_labels[i:f]   # [1, 2, 3, 4, 5, 6, 7, 8]\n",
        "  support_labels = []\n",
        "  query_labels = []\n",
        "  support_patches = []\n",
        "  query_patches = []\n",
        "  for x in selected_classes :\n",
        "    y = test_class_labels.index(x)\n",
        "    support_imgs = test_patches_class[y][:test_K,:,:,:,:]\n",
        "    query_imgs = test_patches_class[y][test_K:,:,:,:,:]\n",
        "    support_patches.extend(support_imgs)\n",
        "    query_patches.extend(query_imgs)\n",
        "    for i in range(query_imgs.shape[0]) :\n",
        "      query_labels.append(x)\n",
        "    for i in range(test_K) :\n",
        "      support_labels.append(x)\n",
        "  temp1 = list(zip(query_patches, query_labels)) \n",
        "  random.shuffle(temp1) \n",
        "  query_patches, query_labels = zip(*temp1)\n",
        "  x = len(query_labels)\n",
        "  query_patches = torch.from_numpy(np.reshape(np.asarray(query_patches,dtype=np.float32),(x,im_height,im_width,im_depth,1)))\n",
        "  support_patches = torch.from_numpy(np.reshape(np.asarray(support_patches,dtype=np.float32),(test_C*test_K,im_height,im_width,im_depth,1)))\n",
        "  query_patches = query_patches.permute(0,4,3,2,1)\n",
        "  support_patches = support_patches.permute(0,4,3,2,1)\n",
        "  return query_patches, support_patches, query_labels, support_labels,x, list(selected_classes)    "
      ],
      "execution_count": 31,
      "outputs": []
    },
    {
      "cell_type": "code",
      "metadata": {
        "id": "wO2QtQRf3ZpL"
      },
      "source": [
        "query_patches, support_patches, query_labels, support_labels, x, selected_classes = test_episode(test_patches_class,test_class_labels,3,5,0,3)"
      ],
      "execution_count": 32,
      "outputs": []
    },
    {
      "cell_type": "code",
      "metadata": {
        "colab": {
          "base_uri": "https://localhost:8080/"
        },
        "id": "XsWfzZo5e242",
        "outputId": "aa9d2cbf-1ac4-44b3-e121-1ac822d399fc"
      },
      "source": [
        "# Testing\n",
        "for epoch in range(1): \n",
        "    import higher   \n",
        "    n_tasks = 1\n",
        "    total_loss = 0\n",
        "    n_inner_iter = 5\n",
        "    inner_opt = torch.optim.SGD(maml_model.parameters(), lr=1e-1)\n",
        "    meta_opt.zero_grad()\n",
        "    for i in range(n_tasks) :\n",
        "      with higher.innerloop_ctx(maml_model, inner_opt, copy_initial_weights=False) as (fnet, diffopt): \n",
        "        tquery_patches1, tsupport_patches1, query_labels1, support_labels1, x1, selected_classes1 = test_episode(test_patches_class,test_class_labels,3,5,0,3)        \n",
        "        support_y1 = np.zeros((int(C*K1),C))\n",
        "        tsupport_patches1 = tsupport_patches1.to(device)\n",
        "        tquery_patches1 = tquery_patches1.to(device)                                             \n",
        "        for i in range(int(C*K1)) :\n",
        "          x = selected_classes1.index(support_labels1[i])                           # creation of 1-hot for true labels\n",
        "          support_y1[i][x] = 1. \n",
        "        support_y1 = torch.from_numpy(support_y1).to(device)\n",
        "        query_y1 = np.zeros((int(x1),C))                                         \n",
        "        for i in range(int(x1)) :\n",
        "          x = selected_classes1.index(query_labels1[i])                           # creation of 1-hot for true labels\n",
        "          query_y1[i][x] = 1.\n",
        "        query_y1 = torch.from_numpy(query_y1).to(device)\n",
        "        for i in range(n_inner_iter) :\n",
        "          s_logits_t = fnet(tsupport_patches1)\n",
        "          i_loss = F.cross_entropy(s_logits_t,support_y1.argmax(axis=1))\n",
        "          i_loss = torch.mean(i_loss)\n",
        "          diffopt.step(i_loss)\n",
        "        q_logits1 = fnet(tquery_patches1)\n",
        "        q_real1 = query_y1.argmax(axis=1)\n",
        "        q_real1 = (q_real1).long()\n",
        "        q_loss = F.cross_entropy(q_logits1,q_real1)\n",
        "        q_loss.detach()\n",
        "        total_loss += q_loss\n",
        "        #q_loss.backward()\n",
        "        eq1 = (q_logits1.argmax(dim=1) == q_real1).sum().item()\n",
        "        accuracy1 = eq1/len(q_real1)  \n",
        "        print(accuracy1) #overall accuracy for the first three classes\n",
        "        # Class-wise accuracies calculation\n",
        "        mean_correct_class = [[] for i in range(C)]\n",
        "        mean_correct_pred = [[] for i in range(C)]\n",
        "        classwise_mean_acc = [[] for i in range(C)]\n",
        "        q_pred = q_logits1.argmax(dim=1)\n",
        "        for i in range(int(x1)):\n",
        "          x = selected_classes1.index(query_labels1[i])\n",
        "          mean_correct_class[x].append('4')\n",
        "          if(q_pred[i] == x) :\n",
        "            mean_correct_pred[x].append('4')\n",
        "        for i in range(C) :\n",
        "           z = len(mean_correct_pred[i])/len(mean_correct_class[i])\n",
        "           classwise_mean_acc[i].append(z)\n",
        "           print(classwise_mean_acc[i])"
      ],
      "execution_count": 33,
      "outputs": [
        {
          "output_type": "stream",
          "text": [
            "0.9390127692014485\n",
            "[0.9046746104491292]\n",
            "[0.9924741298212606]\n",
            "[1.0]\n"
          ],
          "name": "stdout"
        }
      ]
    },
    {
      "cell_type": "code",
      "metadata": {
        "colab": {
          "base_uri": "https://localhost:8080/"
        },
        "id": "MYARKPAJRdLc",
        "outputId": "218e0051-1250-442b-e392-93168c85fa9a"
      },
      "source": [
        "for epoch in range(1): \r\n",
        "    n_tasks = 1\r\n",
        "    total_loss = 0\r\n",
        "    n_inner_iter = 10\r\n",
        "    inner_opt = torch.optim.SGD(maml_model.parameters(), lr=1e-1)\r\n",
        "    meta_opt.zero_grad()\r\n",
        "    for i in range(n_tasks) :\r\n",
        "      with higher.innerloop_ctx(maml_model, inner_opt, copy_initial_weights=False) as (fnet, diffopt): \r\n",
        "        tquery_patches3, tsupport_patches3, query_labels3, support_labels3, x3, selected_classes3 = test_episode(test_patches_class,test_class_labels,3,5,3,6)        \r\n",
        "        support_y3 = np.zeros((int(C*K1),C))\r\n",
        "        tsupport_patches3 = tsupport_patches3.to(device)\r\n",
        "        tquery_patches3 = tquery_patches3.to(device)                                              #(150,10)\r\n",
        "        for i in range(int(C*K1)) :\r\n",
        "          x = selected_classes3.index(support_labels3[i])                           # creation of 1-hot for true labels\r\n",
        "          support_y3[i][x] = 1. \r\n",
        "        support_y3 = torch.from_numpy(support_y3).to(device)\r\n",
        "        query_y3 = np.zeros((int(x3),C))                                              #(150,10)\r\n",
        "        for i in range(int(x3)) :\r\n",
        "          x = selected_classes3.index(query_labels3[i])                           # creation of 1-hot for true labels\r\n",
        "          query_y3[i][x] = 1.\r\n",
        "        query_y3 = torch.from_numpy(query_y3).to(device)\r\n",
        "        for i in range(n_inner_iter) :\r\n",
        "          s_logits_t = fnet(tsupport_patches3)\r\n",
        "          i_loss = F.cross_entropy(s_logits_t,support_y3.argmax(axis=1))\r\n",
        "          i_loss = torch.mean(i_loss)\r\n",
        "          diffopt.step(i_loss)\r\n",
        "        q_logits3 = fnet(tquery_patches3)\r\n",
        "        q_real3 = query_y3.argmax(axis=1)\r\n",
        "        q_real3 = (q_real3).long()\r\n",
        "        q_loss = F.cross_entropy(q_logits3,q_real3)\r\n",
        "        q_loss.detach()\r\n",
        "        total_loss += q_loss\r\n",
        "        #q_loss.backward()\r\n",
        "        eq3 = (q_logits3.argmax(dim=1) == q_real3).sum().item()\r\n",
        "        accuracy3 = eq3/len(q_real3)  \r\n",
        "        print(accuracy3) #overall accuracy for the last three classes\r\n",
        "        # CLasswise accuracy calculation \r\n",
        "        mean_correct_class3 = [[] for i in range(C)]\r\n",
        "        mean_correct_pred3 = [[] for i in range(C)]\r\n",
        "        classwise_mean_acc3 = [[] for i in range(C)]\r\n",
        "        q_pred3 = q_logits3.argmax(dim=1)\r\n",
        "        for i in range(int(x3)):\r\n",
        "          x = selected_classes3.index(query_labels3[i])\r\n",
        "          mean_correct_class3[x].append('4')\r\n",
        "          if(q_pred3[i] == x) :\r\n",
        "            mean_correct_pred3[x].append('4')\r\n",
        "        for i in range(C) :\r\n",
        "           z = len(mean_correct_pred3[i])/len(mean_correct_class3[i])\r\n",
        "           classwise_mean_acc3[i].append(z)\r\n",
        "           print(classwise_mean_acc3[i]) "
      ],
      "execution_count": 34,
      "outputs": [
        {
          "output_type": "stream",
          "text": [
            "0.7877591312931885\n",
            "[0.615962441314554]\n",
            "[0.9482307586396805]\n",
            "[0.24250832408435072]\n"
          ],
          "name": "stdout"
        }
      ]
    },
    {
      "cell_type": "code",
      "metadata": {
        "colab": {
          "base_uri": "https://localhost:8080/"
        },
        "id": "bS12pj6ffTCX",
        "outputId": "ab49466c-b341-4bd4-dbaf-abe69569fe70"
      },
      "source": [
        "# Overall accuracy for all the six test classes\r\n",
        "predictions_f = torch.cat((q_logits1,q_logits3),dim=0)\r\n",
        "real_f = torch.cat((q_real1,q_real3),dim=0)\r\n",
        "eq = torch.eq(predictions_f.argmax(dim=1),real_f)\r\n",
        "acc = torch.sum(eq)/real_f.shape[0]\r\n",
        "print(acc) #overall accuracy"
      ],
      "execution_count": 35,
      "outputs": [
        {
          "output_type": "stream",
          "text": [
            "tensor(0.8394, device='cuda:0')\n"
          ],
          "name": "stdout"
        }
      ]
    },
    {
      "cell_type": "code",
      "metadata": {
        "colab": {
          "base_uri": "https://localhost:8080/"
        },
        "id": "dv1U5jQQM4L7",
        "outputId": "1fb1d474-75d1-4949-8c33-ab4db8624b6e"
      },
      "source": [
        "#Kappa accuracy\r\n",
        "import sklearn\r\n",
        "real_f = real_f.cpu()\r\n",
        "real_f = real_f.detach().numpy()\r\n",
        "predictions_f = predictions_f.argmax(axis=1)\r\n",
        "predictions_f = predictions_f.cpu()\r\n",
        "predictions_f = predictions_f.detach().numpy()\r\n",
        "sklearn.metrics.cohen_kappa_score(real_f,predictions_f)"
      ],
      "execution_count": 36,
      "outputs": [
        {
          "output_type": "execute_result",
          "data": {
            "text/plain": [
              "0.7215364083807643"
            ]
          },
          "metadata": {
            "tags": []
          },
          "execution_count": 36
        }
      ]
    },
    {
      "cell_type": "markdown",
      "metadata": {
        "id": "fGyPY8KmrSPO"
      },
      "source": [
        "**Visualisation**"
      ]
    },
    {
      "cell_type": "code",
      "metadata": {
        "id": "o-Ta2nNA_pyX"
      },
      "source": [
        "PATCH_SIZE = 11\n",
        "sa_x_padded = padWithZeros(sa_x2, PATCH_SIZE//2)"
      ],
      "execution_count": 37,
      "outputs": []
    },
    {
      "cell_type": "code",
      "metadata": {
        "colab": {
          "base_uri": "https://localhost:8080/"
        },
        "id": "o1rrxofGvjBZ",
        "outputId": "daec485e-946e-40dc-8752-95c587be136e"
      },
      "source": [
        "sa_x2.shape"
      ],
      "execution_count": 38,
      "outputs": [
        {
          "output_type": "execute_result",
          "data": {
            "text/plain": [
              "(512, 217, 30)"
            ]
          },
          "metadata": {
            "tags": []
          },
          "execution_count": 38
        }
      ]
    },
    {
      "cell_type": "code",
      "metadata": {
        "colab": {
          "base_uri": "https://localhost:8080/"
        },
        "id": "spYGlih0vdHs",
        "outputId": "2f30d67c-14c3-45d0-f666-226eb44298d4"
      },
      "source": [
        "sa_x_padded.shape"
      ],
      "execution_count": 39,
      "outputs": [
        {
          "output_type": "execute_result",
          "data": {
            "text/plain": [
              "(522, 227, 30)"
            ]
          },
          "metadata": {
            "tags": []
          },
          "execution_count": 39
        }
      ]
    },
    {
      "cell_type": "code",
      "metadata": {
        "colab": {
          "base_uri": "https://localhost:8080/"
        },
        "id": "p9kJZ2AGdY8G",
        "outputId": "c3379398-68f9-4ca4-ba2d-ed181bc6d6fd"
      },
      "source": [
        "sa_y.shape"
      ],
      "execution_count": 40,
      "outputs": [
        {
          "output_type": "execute_result",
          "data": {
            "text/plain": [
              "(512, 217)"
            ]
          },
          "metadata": {
            "tags": []
          },
          "execution_count": 40
        }
      ]
    },
    {
      "cell_type": "code",
      "metadata": {
        "id": "6ePxBtUO_joC"
      },
      "source": [
        "def Patch(data,height_index,width_index):\n",
        "    height_slice = slice(height_index, height_index+PATCH_SIZE)\n",
        "    width_slice = slice(width_index, width_index+PATCH_SIZE)\n",
        "    patch = data[height_slice, width_slice, :]    \n",
        "    return patch"
      ],
      "execution_count": 41,
      "outputs": []
    },
    {
      "cell_type": "code",
      "metadata": {
        "id": "jEQaJhb4pZQh"
      },
      "source": [
        "#for train classes\n",
        "train_class_labels = [1,2,3,4,5,6,7,8,9,12] \n",
        "n_tasks1 = 1\n",
        "import higher  \n",
        "device = 'cuda'\n",
        "inner_opt = torch.optim.SGD(maml_model.parameters(), lr=1e-1)\n",
        "n_inner_iter = 5\n",
        "test_class_labels = [10,11,13,14,15,16]\n",
        "height,width = 512,217\n",
        "outputs = torch.from_numpy(np.zeros((height,width)))\n",
        "for i in range(height):\n",
        "    for j in range(width):\n",
        "        target = int(sa_y[i,j])  \n",
        "        if target == 0 :     # avoid label 0\n",
        "            continue\n",
        "        elif target <= 3 :\n",
        "            checkpoint = torch.load('/content/drive/MyDrive/Hyperspectral Few Shot/MAML/training/ckpts/ckpt1939597999119159199239279319359399439479')\n",
        "            maml_model.load_state_dict(checkpoint['model_state_dict'])\n",
        "            meta_opt.load_state_dict(checkpoint['optimizer_state_dict'])         \n",
        "            query_labels = []\n",
        "            query_labels.append(target)\n",
        "            image_patch = Patch(sa_x_padded,i,j)\n",
        "            X_test_image = image_patch.reshape(1,image_patch.shape[0],image_patch.shape[1], image_patch.shape[2], 1).astype('float32') \n",
        "            query_patches = torch.from_numpy(X_test_image).to(device)  \n",
        "            query_patches = query_patches.permute(0,4,3,2,1)\n",
        "            selected_classes = train_class_labels[0:3]\n",
        "            support_patches = []\n",
        "            support_labels = []\n",
        "            for x in selected_classes :\n",
        "              y = train_class_labels.index(x)\n",
        "              support_imgs = train_patches_class[y][:5,:,:,:,:]\n",
        "              support_patches.extend(support_imgs)\n",
        "              for o in range(K1) :\n",
        "                support_labels.append(x)\n",
        "            for p in range(n_tasks1) :\n",
        "              with higher.innerloop_ctx(maml_model, inner_opt, copy_initial_weights=False) as (fnet, diffopt): \n",
        "                  support_y = np.zeros((int(C*K1),C))                                   \n",
        "                  for o in range(int(C*K1)) :\n",
        "                    x = selected_classes.index(support_labels[o])                           # creation of 1-hot for true labels\n",
        "                    support_y[o][x] = 1. \n",
        "                  support_y = torch.from_numpy(support_y).to(device)\n",
        "                  support_patches = torch.from_numpy(np.asarray(support_patches,dtype=np.float32)).to(device)\n",
        "                  support_patches = support_patches.permute(0,4,3,2,1)\n",
        "\n",
        "                  for b in range(n_inner_iter) :\n",
        "                    s_logits_t = fnet(support_patches)\n",
        "                    i_loss = F.cross_entropy(s_logits_t,support_y.argmax(axis=1))\n",
        "                    i_loss = torch.mean(i_loss)\n",
        "                    diffopt.step(i_loss)\n",
        "                  q_logits = fnet(query_patches)\n",
        "                  index = torch.argmax(q_logits,axis=1)\n",
        "                  outputs[i][j] = index + 1         \n",
        "        elif target in train_class_labels[3:6]: \n",
        "            checkpoint = torch.load('/content/drive/MyDrive/Hyperspectral Few Shot/MAML/training/ckpts/ckpt1939597999119159199239279319359399439479')\n",
        "            maml_model.load_state_dict(checkpoint['model_state_dict'])\n",
        "            meta_opt.load_state_dict(checkpoint['optimizer_state_dict'])\n",
        "            query_labels = []\n",
        "            query_labels.append(target)\n",
        "            image_patch = Patch(sa_x_padded,i,j)   \n",
        "            X_test_image = image_patch.reshape(1,image_patch.shape[0],image_patch.shape[1], image_patch.shape[2], 1).astype('float32')   \n",
        "            query_patches = torch.from_numpy(X_test_image).to(device)  \n",
        "            query_patches = query_patches.permute(0,4,3,2,1)\n",
        "            selected_classes = train_class_labels[3:6]\n",
        "            support_patches = []\n",
        "            support_labels = []\n",
        "            for x in selected_classes :\n",
        "              y = train_class_labels.index(x)\n",
        "              support_imgs = train_patches_class[y][:5,:,:,:,:]\n",
        "              support_patches.extend(support_imgs)\n",
        "              for o in range(K1) :\n",
        "                support_labels.append(x)\n",
        "            for p in range(n_tasks1) :\n",
        "              with higher.innerloop_ctx(maml_model, inner_opt, copy_initial_weights=False) as (fnet, diffopt): \n",
        "                  support_y = np.zeros((int(C*K1),C))                                  \n",
        "                  for o in range(int(C*K1)) :\n",
        "                    x = selected_classes.index(support_labels[o])                           # creation of 1-hot for true labels\n",
        "                    support_y[o][x] = 1. \n",
        "                  support_y = torch.from_numpy(support_y).to(device)\n",
        "                  support_patches = torch.from_numpy(np.asarray(support_patches,dtype=np.float32)).to(device)\n",
        "                  support_patches = support_patches.permute(0,4,3,2,1)\n",
        "\n",
        "                  for o in range(n_inner_iter) :\n",
        "                    s_logits_t = fnet(support_patches)\n",
        "                    i_loss = F.cross_entropy(s_logits_t,support_y.argmax(axis=1))\n",
        "                    i_loss = torch.mean(i_loss)\n",
        "                    diffopt.step(i_loss)\n",
        "                  q_logits = fnet(query_patches)\n",
        "                  index = torch.argmax(q_logits,axis=1)\n",
        "                  outputs[i][j] = index + 4\n",
        "        elif target in train_class_labels[6:9]: \n",
        "            checkpoint = torch.load('/content/drive/MyDrive/Hyperspectral Few Shot/MAML/training/ckpts/ckpt1939597999119159199239279319359399439479')\n",
        "            maml_model.load_state_dict(checkpoint['model_state_dict'])\n",
        "            meta_opt.load_state_dict(checkpoint['optimizer_state_dict'])   \n",
        "            query_labels = []\n",
        "            query_labels.append(target)\n",
        "            image_patch = Patch(sa_x_padded,i,j)   \n",
        "            X_test_image = image_patch.reshape(1,image_patch.shape[0],image_patch.shape[1], image_patch.shape[2], 1).astype('float32')   \n",
        "            query_patches = torch.from_numpy(X_test_image).to(device)  \n",
        "            query_patches = query_patches.permute(0,4,3,2,1)\n",
        "            selected_classes = train_class_labels[6:9]\n",
        "            support_patches = []\n",
        "            support_labels = []\n",
        "            for x in selected_classes :\n",
        "              y = train_class_labels.index(x)\n",
        "              support_imgs = train_patches_class[y][:5,:,:,:,:]\n",
        "              support_patches.extend(support_imgs)\n",
        "              for o in range(K1) :\n",
        "                support_labels.append(x)\n",
        "            for p in range(n_tasks1) :\n",
        "              with higher.innerloop_ctx(maml_model, inner_opt, copy_initial_weights=False) as (fnet, diffopt): \n",
        "                  support_y = np.zeros((int(C*K1),C))                                    \n",
        "                  for o in range(int(C*K1)) :\n",
        "                    x = selected_classes.index(support_labels[o])                           # creation of 1-hot for true labels\n",
        "                    support_y[o][x] = 1. \n",
        "                  support_y = torch.from_numpy(support_y).to(device)\n",
        "                  support_patches = torch.from_numpy(np.asarray(support_patches,dtype=np.float32)).to(device)\n",
        "                  support_patches = support_patches.permute(0,4,3,2,1)\n",
        "                  for o in range(n_inner_iter) :\n",
        "                    s_logits_t = fnet(support_patches)\n",
        "                    i_loss = F.cross_entropy(s_logits_t,support_y.argmax(axis=1))\n",
        "                    i_loss = torch.mean(i_loss)\n",
        "                    diffopt.step(i_loss)\n",
        "                  q_logits = fnet(query_patches)\n",
        "                  index = torch.argmax(q_logits,axis=1)\n",
        "                  outputs[i][j] = index + 7        \n",
        "        elif target in train_class_labels[7:10]: \n",
        "            checkpoint = torch.load('/content/drive/MyDrive/Hyperspectral Few Shot/MAML/training/ckpts/ckpt1939597999119159199239279319359399439479')\n",
        "            maml_model.load_state_dict(checkpoint['model_state_dict'])\n",
        "            meta_opt.load_state_dict(checkpoint['optimizer_state_dict'])\n",
        "            query_labels = []\n",
        "            query_labels.append(target)\n",
        "            image_patch = Patch(sa_x_padded,i,j) \n",
        "            X_test_image = image_patch.reshape(1,image_patch.shape[0],image_patch.shape[1], image_patch.shape[2], 1).astype('float32')  \n",
        "            query_patches = torch.from_numpy(X_test_image).to(device)  \n",
        "            query_patches = query_patches.permute(0,4,3,2,1)\n",
        "            selected_classes = train_class_labels[7:10]\n",
        "            support_patches = []\n",
        "            support_labels = []\n",
        "            for x in selected_classes :\n",
        "              y = train_class_labels.index(x)\n",
        "              support_imgs = train_patches_class[y][:5,:,:,:,:]\n",
        "              support_patches.extend(support_imgs)\n",
        "              for o in range(K1) :\n",
        "                support_labels.append(x)\n",
        "            for p in range(n_tasks1) :\n",
        "              with higher.innerloop_ctx(maml_model, inner_opt, copy_initial_weights=False) as (fnet, diffopt): \n",
        "                  support_y = np.zeros((int(C*K1),C))                                    \n",
        "                  for o in range(int(C*K1)) :\n",
        "                    x = selected_classes.index(support_labels[o])                           # creation of 1-hot for true labels\n",
        "                    support_y[o][x] = 1. \n",
        "                  support_y = torch.from_numpy(support_y).to(device)\n",
        "                  support_patches = torch.from_numpy(np.asarray(support_patches,dtype=np.float32)).to(device)\n",
        "                  support_patches = support_patches.permute(0,4,3,2,1)\n",
        "\n",
        "                  for o in range(n_inner_iter) :\n",
        "                    s_logits_t = fnet(support_patches)\n",
        "                    i_loss = F.cross_entropy(s_logits_t,support_y.argmax(axis=1))\n",
        "                    i_loss = torch.mean(i_loss)\n",
        "                    diffopt.step(i_loss)\n",
        "                  q_logits = fnet(query_patches)\n",
        "                  index = torch.argmax(q_logits,axis=1)\n",
        "                  if index < 2 :\n",
        "                    outputs[i][j] = index + 8\n",
        "                  if index == 2 :\n",
        "                    outputs[i][j] = index + 10              "
      ],
      "execution_count": 42,
      "outputs": []
    },
    {
      "cell_type": "code",
      "metadata": {
        "id": "6uQGikBwOCI0"
      },
      "source": [
        "#For test classes\n",
        "n_tasks1 = 1\n",
        "labels = []\n",
        "n_out = np.zeros((height,width))\n",
        "train_class_labels = [1,2,3,4,5,6,7,8,9,12]   \n",
        "test_class_labels = [10,11,13,14,15,16]\n",
        "for i in range(height):\n",
        "    for j in range(width):\n",
        "        target = int(sa_y[i,j])    \n",
        "        if target == 0 :     # avoid label 0\n",
        "            continue\n",
        "        elif target in test_class_labels[0:3]:\n",
        "            checkpoint_tune = torch.load(checkpoint_prefix2)\n",
        "            maml_model.load_state_dict(checkpoint_tune['model_state_dict'])\n",
        "            meta_opt.load_state_dict(checkpoint_tune['optimizer_state_dict'])           \n",
        "            query_labels = []\n",
        "            query_labels.append(target)\n",
        "            image_patch = Patch(sa_x_padded,i,j)   \n",
        "            X_test_image = image_patch.reshape(1,image_patch.shape[0],image_patch.shape[1], image_patch.shape[2], 1).astype('float32')    \n",
        "            query_patches = torch.from_numpy(X_test_image).to(device)  \n",
        "            query_patches = query_patches.permute(0,4,3,2,1)\n",
        "            selected_classes = test_class_labels[0:3]\n",
        "            support_patches = []\n",
        "            support_labels = []\n",
        "            for x in selected_classes :\n",
        "              y = test_class_labels.index(x)\n",
        "              support_imgs = test_patches_class[y][:5,:,:,:,:]\n",
        "              support_patches.extend(support_imgs)\n",
        "              for b in range(K1) :\n",
        "                support_labels.append(x)\n",
        "            with higher.innerloop_ctx(maml_model, inner_opt, copy_initial_weights=False) as (fnet, diffopt): \n",
        "                  support_y = np.zeros((int(C*K1),C))                                  \n",
        "                  for b in range(int(C*K1)) :\n",
        "                    x = selected_classes.index(support_labels[b])                           # creation of 1-hot for true labels\n",
        "                    support_y[b][x] = 1. \n",
        "                  support_y = torch.from_numpy(support_y).to(device)\n",
        "                  support_patches = torch.from_numpy(np.asarray(support_patches,dtype=np.float32)).to(device)\n",
        "                  support_patches = support_patches.permute(0,4,3,2,1)\n",
        "\n",
        "                  for b in range(n_inner_iter) :\n",
        "                    s_logits_t = fnet(support_patches)\n",
        "                    i_loss = F.cross_entropy(s_logits_t,support_y.argmax(axis=1))\n",
        "                    i_loss = torch.mean(i_loss)\n",
        "                    diffopt.step(i_loss)\n",
        "                  q_logits = fnet(query_patches)\n",
        "                  index = torch.argmax(q_logits,axis=1)\n",
        "                  if index < 2 :\n",
        "                    outputs[i][j] = index + 10 \n",
        "                  elif index == 2 :\n",
        "                    outputs[i][j] = index + 11\n",
        "        elif target in test_class_labels[3:6]:\n",
        "            checkpoint_tune = torch.load(checkpoint_prefix2)\n",
        "            maml_model.load_state_dict(checkpoint_tune['model_state_dict'])\n",
        "            meta_opt.load_state_dict(checkpoint_tune['optimizer_state_dict'])\n",
        "            query_labels = []\n",
        "            support_labels = []\n",
        "            query_labels.append(target)\n",
        "            image_patch = Patch(sa_x_padded,i,j)   \n",
        "            X_test_image = image_patch.reshape(1,image_patch.shape[0],image_patch.shape[1], image_patch.shape[2], 1).astype('float32')  \n",
        "            query_patches = torch.from_numpy(X_test_image).to(device)  \n",
        "            query_patches = query_patches.permute(0,4,3,2,1)\n",
        "            selected_classes = test_class_labels[3:6]\n",
        "            support_patches = []\n",
        "            for x in selected_classes :\n",
        "              y = test_class_labels.index(x)\n",
        "              support_imgs = test_patches_class[y][:5,:,:,:,:]\n",
        "              support_patches.extend(support_imgs)\n",
        "              for b in range(K1) :\n",
        "                support_labels.append(x)\n",
        "            with higher.innerloop_ctx(maml_model, inner_opt, copy_initial_weights=False) as (fnet, diffopt): \n",
        "                  support_y = np.zeros((int(C*K1),C))                                   \n",
        "                  for b in range(int(C*K1)) :\n",
        "                    x = selected_classes.index(support_labels[b])                           # creation of 1-hot for true labels\n",
        "                    support_y[b][x] = 1. \n",
        "                  support_y = torch.from_numpy(support_y).to(device)\n",
        "                  support_patches = torch.from_numpy(np.asarray(support_patches,dtype=np.float32)).to(device)\n",
        "                  support_patches = support_patches.permute(0,4,3,2,1)\n",
        "                  for b in range(n_inner_iter) :\n",
        "                    s_logits_t = fnet(support_patches)\n",
        "                    i_loss = F.cross_entropy(s_logits_t,support_y.argmax(axis=1))\n",
        "                    i_loss = torch.mean(i_loss)\n",
        "                    diffopt.step(i_loss)\n",
        "                  q_logits = fnet(query_patches)\n",
        "                  index = torch.argmax(q_logits,axis=1)              \n",
        "                  outputs[i][j] = index + 14         "
      ],
      "execution_count": 43,
      "outputs": []
    },
    {
      "cell_type": "code",
      "metadata": {
        "id": "Ll4ojGuYpZRQ",
        "colab": {
          "base_uri": "https://localhost:8080/",
          "height": 432
        },
        "outputId": "7984abf9-69f2-4862-a116-751987c50238"
      },
      "source": [
        "predict_image = spectral.imshow(classes = np.asarray(outputs).astype(int),figsize = (7,7)) "
      ],
      "execution_count": 44,
      "outputs": [
        {
          "output_type": "display_data",
          "data": {
            "image/png": "[encoded data removed]",
            "text/plain": [
              "<Figure size 504x504 with 1 Axes>"
            ]
          },
          "metadata": {
            "tags": [],
            "needs_background": "light"
          }
        }
      ]
    },
    {
      "cell_type": "code",
      "metadata": {
        "colab": {
          "base_uri": "https://localhost:8080/",
          "height": 432
        },
        "id": "0PW_B7UlMZ7J",
        "outputId": "7dac01a6-1cd2-4a90-bc42-aec9521249bf"
      },
      "source": [
        "ground_truth = spectral.imshow(classes = sa_y,figsize =(7,7))   # 0-16"
      ],
      "execution_count": null,
      "outputs": [
        {
          "output_type": "display_data",
          "data": {
            "image/png": "[encoded data removed]",
            "text/plain": [
              "<Figure size 504x504 with 1 Axes>"
            ]
          },
          "metadata": {
            "tags": []
          }
        }
      ]
    },
    {
      "cell_type": "code",
      "metadata": {
        "id": "89BFFGM4G187"
      },
      "source": [
        ""
      ],
      "execution_count": null,
      "outputs": []
    }
  ]
}